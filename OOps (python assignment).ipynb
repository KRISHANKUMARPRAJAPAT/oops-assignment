{
 "cells": [
  {
   "cell_type": "markdown",
   "id": "59e8efb4-2449-4203-9c56-1485fea4b48a",
   "metadata": {},
   "source": [
    "## Q1. Explain Class and Object with respect to Object-Oriented Programming. Give a suitable example.\n"
   ]
  },
  {
   "cell_type": "markdown",
   "id": "607a1cf0-baf6-4a76-a1d2-4a32e539a8a0",
   "metadata": {},
   "source": [
    "#Ans:1 \n",
    "\n",
    "In Object-Oriented Programming (OOP), a class is a blueprint or template for creating objects that share similar characteristics and behavior. It defines the attributes (data) and methods (functions) that an object can have. Objects, on the other hand, are instances of a class. They represent specific, concrete things that have their own unique values for the attributes defined in the class."
   ]
  },
  {
   "cell_type": "code",
   "execution_count": 7,
   "id": "2585d76b-c806-40e8-aa70-3b97c629b002",
   "metadata": {},
   "outputs": [
    {
     "name": "stdout",
     "output_type": "stream",
     "text": [
      "Krishna\n",
      "21\n",
      "Namaste, my name is Krishna\n",
      "Varshais eating Golgappa\n",
      "Krishnais sleeping\n"
     ]
    }
   ],
   "source": [
    "#Here is an example\n",
    "#defining a person class:\n",
    "class person:\n",
    "    def __init__(self, name , age , gender):\n",
    "        self.name = name \n",
    "        self.age = age \n",
    "        self.gender = gender\n",
    "        \n",
    "    def speak(self):\n",
    "        print(\"Namaste, my name is \" + self.name)\n",
    "        \n",
    "    def eat(self):\n",
    "        print(self.name + 'is eating ' + 'Golgappa')\n",
    "        \n",
    "        \n",
    "    def sleep(self):\n",
    "        print(self.name + 'is sleeping')\n",
    "        \n",
    "        \n",
    "\n",
    "#creating two person objects\n",
    "krishna = person('Krishna' , 22, 'Male')\n",
    "varsha = person('Varsha' , 21, 'Female')\n",
    "\n",
    "#accessing object attributes:\n",
    "print(krishna.name)\n",
    "print(varsha.age)\n",
    "\n",
    "\n",
    "#calling object methods:\n",
    "krishna.speak()\n",
    "varsha.eat()\n",
    "krishna.sleep()"
   ]
  },
  {
   "cell_type": "markdown",
   "id": "ca7fc1e1-72dd-4756-927f-a60a5e482497",
   "metadata": {},
   "source": [
    "## Q2. Name the four pillars of OOPs.\n"
   ]
  },
  {
   "cell_type": "markdown",
   "id": "75fbbc53-b236-4291-bddb-8e3a6f34c97b",
   "metadata": {},
   "source": [
    "#Ans: 2\n",
    "\n",
    "These are the four fillars of OOps:\n",
    "    \n",
    "    \n",
    "**Encapsulation:** It is the practice of hiding the internal details of an object and providing a public interface for interacting with the object. Encapsulation allows for better data security and more flexible software design by decoupling the implementation details from the rest of the program.\n",
    "\n",
    "**Inheritance:** It is the mechanism by which one class acquires the properties and methods of another class. Inheritance allows for code reuse and promotes the creation of more maintainable, extensible code.\n",
    "\n",
    "**Polymorphism:** It is the ability of an object to take on multiple forms. Polymorphism allows for the creation of more flexible and adaptable software by allowing objects of different classes to be used interchangeably.\n",
    "\n",
    "**Abstraction:** It is the process of identifying essential features of an object and ignoring the non-essential details. Abstraction allows for the creation of simpler, more generalized models of complex systems, which can be easier to understand, modify, and maintain."
   ]
  },
  {
   "cell_type": "markdown",
   "id": "3a734839-1c64-4582-bf1b-746ca1593cd9",
   "metadata": {},
   "source": [
    "## Q3. Explain why the __init__() function is used. Give a suitable example.\n"
   ]
  },
  {
   "cell_type": "markdown",
   "id": "c062d0cf-ddb9-4edf-b9df-ce9f2e340acf",
   "metadata": {},
   "source": [
    "#Ans: 3\n",
    "\n",
    "the __init__() function is a special method in python that is automatically called when an object is created from a class. It is used to initialize the object's attributes with default or provided values.\n",
    "\n",
    "The __init__() method is called a constructor because it constructs the object and initializes its attributes. It is a commonly used method in Object-Oriented Programming (OOP) as it allows for the creation of objects with specific initial values.\n",
    "\n",
    "__init__() method simplifies the object creation process and ensures that all necessary attributes are properly initialized.\n",
    "\n",
    "\n",
    "\n"
   ]
  },
  {
   "cell_type": "code",
   "execution_count": 14,
   "id": "b3d629e7-fdad-40cc-80be-238c199c6f54",
   "metadata": {},
   "outputs": [
    {
     "name": "stdout",
     "output_type": "stream",
     "text": [
      "Namaste, my name is krishna kumar. I'm 22 years old and Male.\n"
     ]
    }
   ],
   "source": [
    "#Here is an example:\n",
    "class Person:\n",
    "    def __init__(self, name, age, gender):\n",
    "        self.name = name\n",
    "        self.age = age\n",
    "        self.gender = gender\n",
    "    \n",
    "    def introduce(self):\n",
    "        print(\"Namaste, my name is krishna kumar\" + \". I'm \" + str(self.age) + \" years old and \" + self.gender + \".\")\n",
    "\n",
    "# Create a Person object\n",
    "person1 = Person(\"krishna\", 22, \"Male\")\n",
    "\n",
    "# Call the introduce method to print the object's attributes\n",
    "person1.introduce()  "
   ]
  },
  {
   "cell_type": "markdown",
   "id": "37ae3227-ecd5-44ea-9e3e-337a53a80d52",
   "metadata": {},
   "source": [
    "## Q4. Why self is used in OOPs?\n"
   ]
  },
  {
   "cell_type": "markdown",
   "id": "5799d5b2-71a8-4a59-8381-c07a5d6657ae",
   "metadata": {},
   "source": [
    "#Ans: 4\n",
    "\n",
    "In Object-Oriented Programming (OOP), 'self' is a reference variable that refers to the current object instance. It is used to access the object's attributes and methods within the class definition.\n",
    "\n",
    "When a method is called on an object, the object itself is passed as the first argument to the method. This argument is typically named self, although it can technically be named anything. By convention, self is used to make the code more readable and understandable.\n"
   ]
  },
  {
   "cell_type": "code",
   "execution_count": 3,
   "id": "6ef8c807-ac9c-45e4-8e95-43857bcd4edd",
   "metadata": {},
   "outputs": [
    {
     "name": "stdout",
     "output_type": "stream",
     "text": [
      "I am reading 'Thr Great Gatspy' by F. Scott Fitzgerald\n",
      "Krish thinks that 'Thr Great Gatspy' is a great book with a rating of 4.5\n"
     ]
    }
   ],
   "source": [
    "#here is an example of a man who is reading an oscar wining book:\n",
    "class book :\n",
    "    def __init__(self, tittle , author, year_published):\n",
    "        self.tittle = tittle\n",
    "        self.author = author\n",
    "        self.year_published = year_published\n",
    "        \n",
    "    def read_book(self):\n",
    "        print(f\"I am reading '{self.tittle}' by {self.author}\" )\n",
    "        \n",
    "        \n",
    "    def get_rating(self):\n",
    "        pass\n",
    "    \n",
    "gatsby = book('Thr Great Gatspy' , \"F. Scott Fitzgerald\", 1925)\n",
    "\n",
    "Krish = 'Krish'\n",
    "gatsby.read_book()\n",
    "rating = gatsby.get_rating()\n",
    "\n",
    "print(f\"{Krish} thinks that '{gatsby.tittle}' is a great book with a rating of {4.5}\")"
   ]
  },
  {
   "cell_type": "markdown",
   "id": "993ae576-e150-4302-b67f-4b2fa5f1dc28",
   "metadata": {},
   "source": [
    "## Q5. What is inheritance? Give an example for each type of inheritance."
   ]
  },
  {
   "cell_type": "markdown",
   "id": "5e868f8b-c272-4ff2-ad72-4de7026a0cb4",
   "metadata": {},
   "source": [
    "#Ans: 5\n",
    "\n",
    "Inheritance is a fundamental concept in object-oriented programming (OOP) that allows a new class to be based on an existing class. Inheritance enables code reuse and makes it easier to create and maintain complex systems. Inheritance allows a child class to inherit the attributes and methods of a parent class, and to add or modify them as needed.\n",
    "\n",
    "There are four types of inheritance in Python:\n",
    "\n",
    "**Single inheritance:** A child class inherits from a single parent class. This is the most common type of inheritance."
   ]
  },
  {
   "cell_type": "code",
   "execution_count": 5,
   "id": "6260eb35-bb17-40e0-8705-af051cc312a3",
   "metadata": {},
   "outputs": [],
   "source": [
    "#Single inherisinstance:\n",
    "class Animal:\n",
    "    def make_sound(self):\n",
    "        pass\n",
    "\n",
    "class Dog(Animal):\n",
    "    def make_sound(self):\n",
    "        print(\"Woof!\")"
   ]
  },
  {
   "cell_type": "markdown",
   "id": "29a9fc17-62f4-41ff-9511-97a4dfacc955",
   "metadata": {},
   "source": [
    "**Multiple inheritance:** A child class inherits from multiple parent classes."
   ]
  },
  {
   "cell_type": "code",
   "execution_count": 6,
   "id": "3bd5fda2-0646-43a0-879b-9413d33d49a6",
   "metadata": {},
   "outputs": [],
   "source": [
    "#here is Multiple inheritance method example:\n",
    "class Shape:\n",
    "    def draw(self):\n",
    "        pass\n",
    "\n",
    "class Color:\n",
    "    def set_color(self):\n",
    "        pass\n",
    "\n",
    "class ColoredShape(Shape, Color):\n",
    "    def draw(self):\n",
    "        self.set_color()\n",
    "        super().draw()"
   ]
  },
  {
   "cell_type": "markdown",
   "id": "6659840c-9033-4483-9e0e-7f31c8f57521",
   "metadata": {},
   "source": [
    "**Multi-level inheritance:** A child class inherits from a parent class, which in turn inherits from another parent class."
   ]
  },
  {
   "cell_type": "code",
   "execution_count": 7,
   "id": "ac612f4c-8eac-4dc9-a89c-b926dd1ffa37",
   "metadata": {},
   "outputs": [],
   "source": [
    "#here is Multi-level inheritance method example:\n",
    "class Animal:\n",
    "    def eat(self):\n",
    "        print(\"I am eating.\")\n",
    "\n",
    "class Dog(Animal):\n",
    "    def bark(self):\n",
    "        print(\"Woof!\")\n",
    "\n",
    "class Bulldog(Dog):\n",
    "    def bark(self):\n",
    "        print(\"Grrr!\")"
   ]
  },
  {
   "cell_type": "markdown",
   "id": "94d75804-a36d-44d8-ad00-9123e7336880",
   "metadata": {},
   "source": [
    "**Hierarchical inheritance:** Multiple child classes inherit from a single parent class."
   ]
  },
  {
   "cell_type": "code",
   "execution_count": null,
   "id": "5e7958cf-dfc1-49ab-9cd1-674e421fe8a8",
   "metadata": {},
   "outputs": [],
   "source": []
  }
 ],
 "metadata": {
  "kernelspec": {
   "display_name": "Python 3 (ipykernel)",
   "language": "python",
   "name": "python3"
  },
  "language_info": {
   "codemirror_mode": {
    "name": "ipython",
    "version": 3
   },
   "file_extension": ".py",
   "mimetype": "text/x-python",
   "name": "python",
   "nbconvert_exporter": "python",
   "pygments_lexer": "ipython3",
   "version": "3.10.8"
  }
 },
 "nbformat": 4,
 "nbformat_minor": 5
}
